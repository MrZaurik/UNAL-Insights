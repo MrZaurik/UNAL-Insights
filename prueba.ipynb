{
 "cells": [
  {
   "cell_type": "code",
   "execution_count": 44,
   "metadata": {},
   "outputs": [],
   "source": [
    "from dash import Dash, html, dcc, callback, Output, Input\n",
    "import plotly.express as px\n",
    "import pandas as pd\n",
    "import numpy as np\n",
    "\n",
    "df = pd.read_csv(\"dataset.csv\")\n",
    "\n",
    "for i in range(len(df[\"PAPA\"])):\n",
    "    df.iloc[i, 9] = str(df.iloc[i, 9])\n",
    "    df.iloc[i, 9] = df.iloc[i, 9].replace(\",\", \".\")\n",
    "    df.iloc[i, 9] = float(df.iloc[i, 9])\n",
    "\n",
    "for i in range(len(df[\"AVANCE_CARRERA\"])):\n",
    "    df.iloc[i, 1] = str(df.iloc[i, 1])\n",
    "    df.iloc[i, 1] = df.iloc[i, 1].replace(\",\", \".\")\n",
    "    df.iloc[i, 1] = float(df.iloc[i, 1])\n",
    "\n",
    "for i in range(len(df[\"NUMERO_MATRICULAS\"])):\n",
    "    if np.isnan(df.iloc[i, 8]) == False:\n",
    "        df.iloc[i, 8] = int(df.iloc[i, 8])\n",
    "    else:\n",
    "        pass\n",
    "\n",
    "df.to_csv(\"dataset.csv\")\n"
   ]
  }
 ],
 "metadata": {
  "kernelspec": {
   "display_name": "Python 3",
   "language": "python",
   "name": "python3"
  },
  "language_info": {
   "codemirror_mode": {
    "name": "ipython",
    "version": 3
   },
   "file_extension": ".py",
   "mimetype": "text/x-python",
   "name": "python",
   "nbconvert_exporter": "python",
   "pygments_lexer": "ipython3",
   "version": "3.11.8"
  }
 },
 "nbformat": 4,
 "nbformat_minor": 2
}
